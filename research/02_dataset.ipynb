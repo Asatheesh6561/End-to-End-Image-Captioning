{
 "cells": [
  {
   "cell_type": "code",
   "execution_count": null,
   "metadata": {},
   "outputs": [],
   "source": [
    "import os"
   ]
  },
  {
   "cell_type": "code",
   "execution_count": 148,
   "metadata": {},
   "outputs": [],
   "source": [
    "import mysql.connector\n",
    "from mysql.connector import Error\n",
    "from imageCaptioningWithAttention.components.data_processing import MySQLServer\n",
    "import torch\n",
    "from torchvision import transforms\n",
    "from torch.utils.data import Dataset\n",
    "from PIL import Image\n",
    "from imageCaptioningWithAttention.constants import CONFIG_FILE_PATH, PARAMS_FILE_PATH\n",
    "from imageCaptioningWithAttention.utils.common import read_yaml, create_directories\n",
    "from torchtext.data.utils import get_tokenizer\n",
    "from torchtext.vocab import build_vocab_from_iterator\n"
   ]
  },
  {
   "cell_type": "code",
   "execution_count": 164,
   "metadata": {},
   "outputs": [
    {
     "name": "stdout",
     "output_type": "stream",
     "text": [
      "<mysql.connector.connection_cext.CMySQLConnection object at 0x000002220E099670>\n",
      "[2023-07-22 21:31:24,861: INFO: data_processing: Database connection successful with host name localhost and username root.]\n"
     ]
    }
   ],
   "source": [
    "server = MySQLServer('localhost', 'root', 'Yesminister22!', 'image_captioning')\n",
    "db_connection = server.db_connection()"
   ]
  },
  {
   "cell_type": "code",
   "execution_count": 150,
   "metadata": {},
   "outputs": [],
   "source": [
    "class DatasetConfig():\n",
    "    def __init__(self, data_path, train_split, val_split, test_split):\n",
    "        self.data_path = data_path\n",
    "        self.train_split = train_split\n",
    "        self.val_split = val_split\n",
    "        self.test_split = test_split"
   ]
  },
  {
   "cell_type": "code",
   "execution_count": 151,
   "metadata": {},
   "outputs": [],
   "source": [
    "class ConfigurationManager():\n",
    "    def __init__(self, config_file_path, params_file_path):\n",
    "        super(ConfigurationManager, self).__init__()\n",
    "        self.config = read_yaml(config_file_path)\n",
    "        self.params = read_yaml(params_file_path)\n",
    "        create_directories([self.config.artifacts_root], verbose=True)\n",
    "    \n",
    "    def get_dataset_config(self):\n",
    "        config = self.config.dataset\n",
    "        data_processing_config = DatasetConfig(config.data_path, config.train, config.val, config.test)\n",
    "        return data_processing_config"
   ]
  },
  {
   "cell_type": "code",
   "execution_count": 152,
   "metadata": {},
   "outputs": [
    {
     "name": "stdout",
     "output_type": "stream",
     "text": [
      "[2023-07-22 21:29:01,315: INFO: common: YAML file config\\config.yaml loaded successfully]\n",
      "[2023-07-22 21:29:01,319: INFO: common: YAML file params.yaml loaded successfully]\n",
      "[2023-07-22 21:29:01,321: INFO: common: created directory at: artifacts]\n"
     ]
    }
   ],
   "source": [
    "config = ConfigurationManager(CONFIG_FILE_PATH, PARAMS_FILE_PATH)\n",
    "dataset_config = config.get_dataset_config()"
   ]
  },
  {
   "cell_type": "code",
   "execution_count": 200,
   "metadata": {},
   "outputs": [],
   "source": [
    "class ImageCaptionDataset(Dataset):\n",
    "    def __init__(self, data, data_path, split, transform=None):\n",
    "        self.data = data\n",
    "        self.data_path = data_path\n",
    "        self.split = split\n",
    "        assert split in set(['train', 'val', 'test'])\n",
    "        self.transform = transform\n",
    "        self.image_paths = []\n",
    "        self.captions = []\n",
    "        for _, path, caption_string in data:\n",
    "            image_captions = caption_string.split('@')\n",
    "            for j in image_captions:\n",
    "                self.image_paths.append(path)\n",
    "                self.captions.append(j)\n",
    "        self.vocab = build_vocab_from_iterator(map(self.tokenizer, self.captions))\n",
    "        self.vectorized_captions = [torch.tensor([self.vocab[token] for token in self.tokenizer(text)], dtype=torch.long) for text in self.captions]\n",
    "    \n",
    "    def tokenizer(self, text):\n",
    "        return [token.lower() for token in get_tokenizer('basic_english')(text)]\n",
    "    \n",
    "    def __getitem__(self, index):\n",
    "        img_filename = self.image_paths[index]\n",
    "        vectorized_caption = self.vectorized_captions[index]\n",
    "        with open(self.data_path + img_filename, 'rb') as f:\n",
    "            img = Image.open(f)\n",
    "            if self.transform is not None:\n",
    "                img = self.transform(img)\n",
    "            img = transforms.ToTensor()(img)\n",
    "        all_captions = self.vectorized_captions[(index//5)*5:(index//5)*5+5]\n",
    "        if self.split == 'train':\n",
    "            return img, vectorized_caption, vectorized_caption.shape[0]\n",
    "        else:\n",
    "            return img, vectorized_caption, vectorized_caption.shape[0], all_captions\n",
    "    \n",
    "    def __len__(self):\n",
    "        return len(self.vectorized_captions)"
   ]
  },
  {
   "cell_type": "code",
   "execution_count": 188,
   "metadata": {},
   "outputs": [],
   "source": [
    "data = server.read_query(db_connection, 'SELECT * FROM table_image_caption')"
   ]
  },
  {
   "cell_type": "code",
   "execution_count": 189,
   "metadata": {},
   "outputs": [],
   "source": [
    "train_data = data[:int(len(data)*dataset_config.train_split)]\n",
    "val_data = data[int(len(data)*dataset_config.train_split):int(len(data)*(dataset_config.train_split+dataset_config.val_split))]\n",
    "test_data = data[int(len(data)*(dataset_config.train_split+dataset_config.val_split)):]"
   ]
  },
  {
   "cell_type": "code",
   "execution_count": 201,
   "metadata": {},
   "outputs": [],
   "source": [
    "train_dataset = ImageCaptionDataset(train_data, dataset_config.data_path, 'train')"
   ]
  },
  {
   "cell_type": "code",
   "execution_count": 202,
   "metadata": {},
   "outputs": [],
   "source": [
    "val_dataset = ImageCaptionDataset(val_data, dataset_config.data_path, 'val')"
   ]
  },
  {
   "cell_type": "code",
   "execution_count": 203,
   "metadata": {},
   "outputs": [
    {
     "name": "stdout",
     "output_type": "stream",
     "text": [
      "28315 10115 2025\n"
     ]
    }
   ],
   "source": [
    "test_dataset = ImageCaptionDataset(test_data, dataset_config.data_path, 'test')\n",
    "print(len(train_dataset), len(val_dataset), len(test_dataset))"
   ]
  }
 ],
 "metadata": {
  "kernelspec": {
   "display_name": "Python 3",
   "language": "python",
   "name": "python3"
  },
  "language_info": {
   "codemirror_mode": {
    "name": "ipython",
    "version": 3
   },
   "file_extension": ".py",
   "mimetype": "text/x-python",
   "name": "python",
   "nbconvert_exporter": "python",
   "pygments_lexer": "ipython3",
   "version": "3.9.6"
  },
  "orig_nbformat": 4
 },
 "nbformat": 4,
 "nbformat_minor": 2
}
